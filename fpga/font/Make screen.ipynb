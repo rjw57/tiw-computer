{
 "cells": [
  {
   "cell_type": "code",
   "execution_count": 19,
   "metadata": {},
   "outputs": [],
   "source": [
    "%matplotlib inline\n",
    "import matplotlib.pyplot as plt\n",
    "import numpy as np\n",
    "import imageio\n",
    "from PIL import Image"
   ]
  },
  {
   "cell_type": "code",
   "execution_count": 20,
   "metadata": {},
   "outputs": [],
   "source": [
    "with open('./font.bin', 'rb') as f:\n",
    "    font_raw = np.frombuffer(f.read(), np.uint8)\n",
    "font = np.zeros((font_raw.shape[0], 8))\n",
    "for c in range(8):\n",
    "    font[:, c] = np.where(font_raw & (1<<(7-c)), 1, 0)"
   ]
  },
  {
   "cell_type": "code",
   "execution_count": null,
   "metadata": {},
   "outputs": [],
   "source": []
  },
  {
   "cell_type": "code",
   "execution_count": 21,
   "metadata": {},
   "outputs": [],
   "source": [
    "PALETTE = np.array([\n",
    "    (0, 0, 0), (0, 0, 127), (0, 127, 0), (0, 127, 127),\n",
    "    (127, 0, 0), (127, 0, 127), (127, 127, 0), (127, 127, 127),\n",
    "    (0, 0, 0), (0, 0, 255), (0, 255, 0), (0, 255, 255),\n",
    "    (255, 0, 0), (255, 0, 255), (255, 255, 0), (255, 255, 255),\n",
    "]) / 255\n",
    "\n",
    "def draw_screen(cells):\n",
    "    screen = np.zeros((cells.shape[0]*8, cells.shape[1]*8, 3))\n",
    "    for r in range(cells.shape[0]):\n",
    "        for c in range(cells.shape[1]):\n",
    "            name, attr = cells[r, c, :]\n",
    "            pattern = font[name*8:(name+1)*8, :]\n",
    "            fore, back = PALETTE[attr & 15, :], PALETTE[(attr >> 4) & 15, :]\n",
    "            im = np.dstack((\n",
    "                np.where(pattern, fore[2], back[2]),\n",
    "                np.where(pattern, fore[1], back[1]),\n",
    "                np.where(pattern, fore[0], back[0]),\n",
    "            ))\n",
    "            screen[r*8:(r+1)*8, c*8:(c+1)*8, :] = im\n",
    "    return screen"
   ]
  },
  {
   "cell_type": "code",
   "execution_count": 22,
   "metadata": {},
   "outputs": [],
   "source": [
    "char_cells = np.zeros((50, 80, 2), np.uint8)\n",
    "\n",
    "def text(x, y, s, attr, cells=char_cells):\n",
    "    char_cells[y, x:x+len(s), 1] = attr\n",
    "    char_cells[y, x:x+len(s), 0] = [ord(c) for c in s]\n",
    "    \n",
    "def rectfill(x, y, w, h, ch, attr):\n",
    "    char_cells[y:y+h, x:x+w, :] = (ord(ch), attr)\n",
    "        \n",
    "def rect(x, y, w, h, attr, strong=False):\n",
    "    if strong:\n",
    "        H, V, TL, TR, BL, BR = [0xcd, 0xba, 0xc9, 0xbb, 0xc8, 0xbc]\n",
    "    else:\n",
    "        H, V, TL, TR, BL, BR = [0xc4, 0xb3, 0xda, 0xbf, 0xc0, 0xd9]\n",
    "    char_cells[y, x:x+w] = (H, attr)\n",
    "    char_cells[y+h-1, x:x+w] = (H, attr)\n",
    "    char_cells[y:y+h, x] = (V, attr)\n",
    "    char_cells[y:y+h, x+w-1] = (V, attr)\n",
    "    char_cells[y, x] = (TL, attr)\n",
    "    char_cells[y+h-1, x] = (BL, attr)\n",
    "    char_cells[y, x+w-1] = (TR, attr)\n",
    "    char_cells[y+h-1, x+w-1] = (BR, attr)\n",
    "    \n",
    "def bigc(x, y, ch, colour):\n",
    "    for row in range(8):\n",
    "        pattern = font[ord(ch)*8 + row, :]\n",
    "        for col in range(8):\n",
    "            if pattern[col] != 0:\n",
    "                text(x+col, y+row, ' ', colour*16)\n",
    "    \n",
    "rectfill(0, 0, 80, 50, chr(0xb1), 0x67)\n",
    "rect(0, 0, 80, 50, 0x6f)\n",
    "    \n",
    "rectfill(0, 0, 64, 48, chr(0xb1), 0x47)\n",
    "rect(0, 0, 64, 48, 0x4f)\n",
    "\n",
    "t = \"\\xb4 Hello, world \\xc3\"\n",
    "text(64 - len(t)>>1, 0, t, 0x4f)\n",
    "\n",
    "rectfill(2, 2, 19, 19, ' ', 0x10)\n",
    "rect(2, 2, 19, 19, 0x1f)\n",
    "for c in range(256):\n",
    "    text(4 + (c % 16), 4 + (c // 16), chr(c), 0x1f)\n",
    "for idx, x in enumerate('0123456789ABCDEF'):\n",
    "    text(4+idx, 3, x, 0x17)\n",
    "    text(3, 4+idx, x, 0x17)\n",
    "\n",
    "#rect(2, 13, 34, 34, 0x2f)\n",
    "for b in range(16):\n",
    "    for r, s in enumerate(' \\xb0\\xb1\\xb2'):\n",
    "        for c in range(16):\n",
    "            text(30 + c + 16*(b//8), 2 + r + (b%8)*4, s, b*16 + c)\n",
    "            \n",
    "rectfill(2, 35, 60, 11, ' ', 0x20)\n",
    "rect(2, 35, 60, 11, 0x2f, strong=True)\n",
    "for c in range(16):\n",
    "    text(3 + 29*(c // 8), 36 + c % 8, 'Lorem ipsum dolor sit amet', 0x20 + c)\n",
    "    \n",
    "bigc(1, 24, 'B', 0x9)\n",
    "bigc(1+7, 24, '\\xa3', 0xa)\n",
    "bigc(1+2*7, 24, 'r', 0xb)\n",
    "bigc(1+3*7-1, 24, 'i', 0xc)"
   ]
  },
  {
   "cell_type": "code",
   "execution_count": 23,
   "metadata": {},
   "outputs": [
    {
     "data": {
      "image/png": "[encoded data removed]",
      "text/plain": [
       "<PIL.Image.Image image mode=RGB size=640x400 at 0x7F6AA0E48DD8>"
      ]
     },
     "execution_count": 23,
     "metadata": {},
     "output_type": "execute_result"
    }
   ],
   "source": [
    "screen = Image.fromarray((255 * draw_screen(char_cells)).astype(np.uint8))\n",
    "screen"
   ]
  },
  {
   "cell_type": "code",
   "execution_count": 24,
   "metadata": {},
   "outputs": [
    {
     "data": {
      "text/plain": [
       "0"
      ]
     },
     "execution_count": 24,
     "metadata": {},
     "output_type": "execute_result"
    }
   ],
   "source": [
    "with open('vram.bin', 'wb') as f:\n",
    "    f.write(char_cells)\n",
    "    \n",
    "from intelhex import bin2hex\n",
    "bin2hex('vram.bin', 'vram.hex')"
   ]
  },
  {
   "cell_type": "code",
   "execution_count": null,
   "metadata": {},
   "outputs": [],
   "source": []
  }
 ],
 "metadata": {
  "kernelspec": {
   "display_name": "Python 3",
   "language": "python",
   "name": "python3"
  },
  "language_info": {
   "codemirror_mode": {
    "name": "ipython",
    "version": 3
   },
   "file_extension": ".py",
   "mimetype": "text/x-python",
   "name": "python",
   "nbconvert_exporter": "python",
   "pygments_lexer": "ipython3",
   "version": "3.6.3"
  }
 },
 "nbformat": 4,
 "nbformat_minor": 2
}
